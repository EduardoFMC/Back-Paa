{
  "cells": [
    {
      "cell_type": "code",
      "execution_count": 1,
      "metadata": {
        "colab": {
          "base_uri": "https://localhost:8080/"
        },
        "id": "epGojVnV2636",
        "outputId": "2f380273-2d80-4f90-89aa-eae0be423fb5"
      },
      "outputs": [
        {
          "name": "stdout",
          "output_type": "stream",
          "text": [
            "Collecting transformers\n",
            "  Using cached transformers-4.30.2-py3-none-any.whl (7.2 MB)\n",
            "Requirement already satisfied: filelock in e:\\2023.1\\paa\\back-paa\\minhavenv\\lib\\site-packages (from transformers) (3.12.2)\n",
            "Collecting huggingface-hub<1.0,>=0.14.1 (from transformers)\n",
            "  Using cached huggingface_hub-0.15.1-py3-none-any.whl (236 kB)\n",
            "Requirement already satisfied: numpy>=1.17 in e:\\2023.1\\paa\\back-paa\\minhavenv\\lib\\site-packages (from transformers) (1.25.0)\n",
            "Requirement already satisfied: packaging>=20.0 in e:\\2023.1\\paa\\back-paa\\minhavenv\\lib\\site-packages (from transformers) (23.1)\n",
            "Collecting pyyaml>=5.1 (from transformers)\n",
            "  Using cached PyYAML-6.0-cp310-cp310-win_amd64.whl (151 kB)\n",
            "Collecting regex!=2019.12.17 (from transformers)\n",
            "  Using cached regex-2023.6.3-cp310-cp310-win_amd64.whl (268 kB)\n",
            "Requirement already satisfied: requests in e:\\2023.1\\paa\\back-paa\\minhavenv\\lib\\site-packages (from transformers) (2.31.0)\n",
            "Collecting tokenizers!=0.11.3,<0.14,>=0.11.1 (from transformers)\n",
            "  Using cached tokenizers-0.13.3-cp310-cp310-win_amd64.whl (3.5 MB)\n",
            "Collecting safetensors>=0.3.1 (from transformers)\n",
            "  Using cached safetensors-0.3.1-cp310-cp310-win_amd64.whl (263 kB)\n",
            "Collecting tqdm>=4.27 (from transformers)\n",
            "  Using cached tqdm-4.65.0-py3-none-any.whl (77 kB)\n",
            "Collecting fsspec (from huggingface-hub<1.0,>=0.14.1->transformers)\n",
            "  Using cached fsspec-2023.6.0-py3-none-any.whl (163 kB)\n",
            "Requirement already satisfied: typing-extensions>=3.7.4.3 in e:\\2023.1\\paa\\back-paa\\minhavenv\\lib\\site-packages (from huggingface-hub<1.0,>=0.14.1->transformers) (4.6.3)\n",
            "Requirement already satisfied: colorama in e:\\2023.1\\paa\\back-paa\\minhavenv\\lib\\site-packages (from tqdm>=4.27->transformers) (0.4.6)\n",
            "Requirement already satisfied: charset-normalizer<4,>=2 in e:\\2023.1\\paa\\back-paa\\minhavenv\\lib\\site-packages (from requests->transformers) (3.1.0)\n",
            "Requirement already satisfied: idna<4,>=2.5 in e:\\2023.1\\paa\\back-paa\\minhavenv\\lib\\site-packages (from requests->transformers) (3.4)\n",
            "Requirement already satisfied: urllib3<3,>=1.21.1 in e:\\2023.1\\paa\\back-paa\\minhavenv\\lib\\site-packages (from requests->transformers) (2.0.3)\n",
            "Requirement already satisfied: certifi>=2017.4.17 in e:\\2023.1\\paa\\back-paa\\minhavenv\\lib\\site-packages (from requests->transformers) (2023.5.7)\n",
            "Installing collected packages: tokenizers, safetensors, tqdm, regex, pyyaml, fsspec, huggingface-hub, transformers\n",
            "Successfully installed fsspec-2023.6.0 huggingface-hub-0.15.1 pyyaml-6.0 regex-2023.6.3 safetensors-0.3.1 tokenizers-0.13.3 tqdm-4.65.0 transformers-4.30.2\n",
            "Note: you may need to restart the kernel to use updated packages.\n"
          ]
        }
      ],
      "source": [
        "%pip install transformers"
      ]
    },
    {
      "cell_type": "code",
      "execution_count": null,
      "metadata": {
        "id": "tAWF4uKE6QTa"
      },
      "outputs": [],
      "source": []
    },
    {
      "cell_type": "code",
      "execution_count": 2,
      "metadata": {
        "id": "OS-JMVKR0GIu"
      },
      "outputs": [
        {
          "name": "stderr",
          "output_type": "stream",
          "text": [
            "e:\\2023.1\\PAA\\Back-Paa\\minhavenv\\lib\\site-packages\\tqdm\\auto.py:21: TqdmWarning: IProgress not found. Please update jupyter and ipywidgets. See https://ipywidgets.readthedocs.io/en/stable/user_install.html\n",
            "  from .autonotebook import tqdm as notebook_tqdm\n",
            "Downloading model.safetensors: 100%|██████████| 436M/436M [00:19<00:00, 22.8MB/s] \n",
            "e:\\2023.1\\PAA\\Back-Paa\\minhavenv\\lib\\site-packages\\huggingface_hub\\file_download.py:133: UserWarning: `huggingface_hub` cache-system uses symlinks by default to efficiently store duplicated files but your machine does not support them in C:\\Users\\Eduardo\\.cache\\huggingface\\hub. Caching files will still work but in a degraded version that might require more space on your disk. This warning can be disabled by setting the `HF_HUB_DISABLE_SYMLINKS_WARNING` environment variable. For more details, see https://huggingface.co/docs/huggingface_hub/how-to-cache#limitations.\n",
            "To support symlinks on Windows, you either need to activate Developer Mode or to run Python as an administrator. In order to see activate developer mode, see this article: https://docs.microsoft.com/en-us/windows/apps/get-started/enable-your-device-for-development\n",
            "  warnings.warn(message)\n"
          ]
        }
      ],
      "source": [
        "from transformers import AutoTokenizer, AutoModelForQuestionAnswering\n",
        "from transformers import pipeline\n",
        "\n",
        "tokenizer = AutoTokenizer.from_pretrained(\"deepset/bert-base-uncased-squad2\")\n",
        "\n",
        "model = AutoModelForQuestionAnswering.from_pretrained(\"deepset/bert-base-uncased-squad2\")"
      ]
    },
    {
      "cell_type": "code",
      "execution_count": 3,
      "metadata": {
        "id": "YNhYpvBN3n7i"
      },
      "outputs": [],
      "source": [
        "context = \"BLOOM has 176 billion parameters and can generate text in 46 languages natural languages and 13 programming languages.\"\n",
        "question = \"How many programming languages does BLOOM support?\""
      ]
    },
    {
      "cell_type": "code",
      "execution_count": 4,
      "metadata": {
        "colab": {
          "base_uri": "https://localhost:8080/"
        },
        "id": "pjtANsUo3p9Y",
        "outputId": "f64c050b-fcb6-48ab-9016-fa0547f80473"
      },
      "outputs": [
        {
          "name": "stdout",
          "output_type": "stream",
          "text": [
            "Resposta: 13\n"
          ]
        }
      ],
      "source": [
        "question_answerer = pipeline(\"question-answering\", model=model, tokenizer=tokenizer)\n",
        "print('Resposta:', question_answerer(question=question, context=context)['answer']) # resposta certa"
      ]
    },
    {
      "cell_type": "code",
      "execution_count": 5,
      "metadata": {
        "id": "U4-7eB7r5N2E"
      },
      "outputs": [],
      "source": [
        "context = \"Pikachu: Pikachu is one of the most iconic Pokémon and is known for its yellow fur and lightning bolt-shaped tail. This Electric-type Pokémon is small in size but packs a powerful electric punch. It can generate electricity in its cheeks and release powerful electric discharges, which it uses in battles to defeat opponents. Pikachu's cute and friendly demeanor, along with its signature Pika Pika sound, has made it a beloved Pokémon among trainers and fans worldwide. Charizard: Charizard is a formidable Fire- and Flying-type Pokémon that resembles a large, dragon-like creature. It has orange scales, fiery wings, and a long flame-tipped tail. Charizard's powerful flames can melt boulders and its wings allow it to soar through the sky with great speed and agility. This Pokémon is known for its fierce and independent nature, making it a symbol of strength and power. Trainers often seek to capture and train Charizard due to its immense battle prowess. Blastoise: Blastoise is a Water-type Pokémon and the final evolution of the Squirtle line. It is a large, blue, turtle-like creature with powerful cannons on its back. These cannons can shoot high-pressure water jets with great accuracy and force, making Blastoise a force to be reckoned with in battles. Known for its stoic and commanding presence, Blastoise is a popular choice for trainers seeking a resilient and powerful Water-type Pokémon. Gengar: Gengar is a Ghost- and Poison-type Pokémon that possesses a mischievous and eerie appearance. This Pokémon is notorious for its ability to hide in shadows and sneak up on unsuspecting victims. Gengar's wicked grin and hypnotic eyes add to its spooky aura. It is known to play pranks on humans and other Pokémon, using its ghostly abilities to phase through walls and possess objects. Gengar's unique combination of typing and its array of ghostly moves make it a tricky opponent in battles. Lucario: Lucario is a Fighting- and Steel-type Pokémon that possesses a unique aura-sensing ability. It resembles a bipedal, canine-like creature with blue and black fur and distinctive aura-sensing appendages on its head and chest. Lucario can detect and manipulate the aura around it, allowing it to understand the emotions and intentions of others. This Pokémon is highly disciplined and trains rigorously to develop its combat skills. Lucario's mastery of aura allows it to deliver powerful punches and launch energy blasts in battles, making it a popularz choice among trainers seeking a balanced and versatile fighter.\"\n",
        "\n",
        "question = \"What pokemon can manipulate the aura?\""
      ]
    },
    {
      "cell_type": "code",
      "execution_count": 6,
      "metadata": {
        "colab": {
          "base_uri": "https://localhost:8080/"
        },
        "id": "5O58igJJ5P8A",
        "outputId": "cac967f5-63f8-4379-ed49-cd9d068def01"
      },
      "outputs": [
        {
          "name": "stdout",
          "output_type": "stream",
          "text": [
            "Resposta: Gengar\n"
          ]
        }
      ],
      "source": [
        "question_answerer = pipeline(\"question-answering\", model=model, tokenizer=tokenizer)\n",
        "print('Resposta:', question_answerer(question=question, context=context)['answer']) # resposta errada"
      ]
    },
    {
      "cell_type": "code",
      "execution_count": 7,
      "metadata": {
        "id": "rzQXtGgP7BrC"
      },
      "outputs": [],
      "source": [
        "context = \"Pikachu: Pikachu is one of the most iconic Pokémon and is known for its yellow fur and lightning bolt-shaped tail. This Electric-type Pokémon is small in size but packs a powerful electric punch. It can generate electricity in its cheeks and release powerful electric discharges, which it uses in battles to defeat opponents. Pikachu's cute and friendly demeanor, along with its signature Pika Pika sound, has made it a beloved Pokémon among trainers and fans worldwide. Charizard: Charizard is a formidable Fire- and Flying-type Pokémon that resembles a large, dragon-like creature. It has orange scales, fiery wings, and a long flame-tipped tail. Charizard's powerful flames can melt boulders and its wings allow it to soar through the sky with great speed and agility. This Pokémon is known for its fierce and independent nature, making it a symbol of strength and power. Trainers often seek to capture and train Charizard due to its immense battle prowess. Blastoise: Blastoise is a Water-type Pokémon and the final evolution of the Squirtle line. It is a large, blue, turtle-like creature with powerful cannons on its back. These cannons can shoot high-pressure water jets with great accuracy and force, making Blastoise a force to be reckoned with in battles. Known for its stoic and commanding presence, Blastoise is a popular choice for trainers seeking a resilient and powerful Water-type Pokémon. Gengar: Gengar is a Ghost- and Poison-type Pokémon that possesses a mischievous and eerie appearance. This Pokémon is notorious for its ability to hide in shadows and sneak up on unsuspecting victims. Gengar's wicked grin and hypnotic eyes add to its spooky aura. It is known to play pranks on humans and other Pokémon, using its ghostly abilities to phase through walls and possess objects. Gengar's unique combination of typing and its array of ghostly moves make it a tricky opponent in battles. Lucario: Lucario is a Fighting- and Steel-type Pokémon that possesses a unique aura-sensing ability. It resembles a bipedal, canine-like creature with blue and black fur and distinctive aura-sensing appendages on its head and chest. Lucario can detect and manipulate the aura around it, allowing it to understand the emotions and intentions of others. This Pokémon is highly disciplined and trains rigorously to develop its combat skills. Lucario's mastery of aura allows it to deliver powerful punches and launch energy blasts in battles, making it a popularz  choice among trainers seeking a balanced and versatile fighter.\"\n",
        "\n",
        "question = \"What pokemon is yellow?\""
      ]
    },
    {
      "cell_type": "code",
      "execution_count": 8,
      "metadata": {
        "colab": {
          "base_uri": "https://localhost:8080/"
        },
        "id": "Qcq5LQp27Cgs",
        "outputId": "93534d6e-587b-40c8-f9df-0c433f63982c"
      },
      "outputs": [
        {
          "name": "stdout",
          "output_type": "stream",
          "text": [
            "Resposta: Pikachu\n"
          ]
        }
      ],
      "source": [
        "question_answerer = pipeline(\"question-answering\", model=model, tokenizer=tokenizer)\n",
        "print('Resposta:', question_answerer(question=question, context=context)['answer']) # resposta certa"
      ]
    }
  ],
  "metadata": {
    "colab": {
      "provenance": []
    },
    "kernelspec": {
      "display_name": "Python 3",
      "name": "python3"
    },
    "language_info": {
      "codemirror_mode": {
        "name": "ipython",
        "version": 3
      },
      "file_extension": ".py",
      "mimetype": "text/x-python",
      "name": "python",
      "nbconvert_exporter": "python",
      "pygments_lexer": "ipython3",
      "version": "3.10.11"
    }
  },
  "nbformat": 4,
  "nbformat_minor": 0
}
